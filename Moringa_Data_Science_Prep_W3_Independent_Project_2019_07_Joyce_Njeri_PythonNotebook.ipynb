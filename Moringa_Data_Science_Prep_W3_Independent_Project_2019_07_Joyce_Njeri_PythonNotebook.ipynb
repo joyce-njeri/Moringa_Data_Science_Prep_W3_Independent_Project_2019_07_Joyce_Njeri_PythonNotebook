{
  "nbformat": 4,
  "nbformat_minor": 0,
  "metadata": {
    "colab": {
      "name": "Moringa_Data_Science_Prep_W3_Independent_Project_2019_07_Joyce_Njeri_PythonNotebook",
      "provenance": [],
      "toc_visible": true
    },
    "kernelspec": {
      "name": "python3",
      "display_name": "Python 3"
    }
  },
  "cells": [
    {
      "cell_type": "markdown",
      "metadata": {
        "id": "lBHnXrEMyiHt",
        "colab_type": "text"
      },
      "source": [
        "# Importing Libraries"
      ]
    },
    {
      "cell_type": "code",
      "metadata": {
        "id": "5y_IT9etgOw_",
        "colab_type": "code",
        "colab": {}
      },
      "source": [
        "# Importing the pandas for data manipulation and analysis\n",
        "import pandas as pd"
      ],
      "execution_count": 0,
      "outputs": []
    },
    {
      "cell_type": "markdown",
      "metadata": {
        "id": "JO8EfrMby56w",
        "colab_type": "text"
      },
      "source": [
        "# Data Understanding - Phase 1"
      ]
    },
    {
      "cell_type": "code",
      "metadata": {
        "id": "bG8xD8lKj9xy",
        "colab_type": "code",
        "colab": {
          "base_uri": "https://localhost:8080/",
          "height": 34
        },
        "outputId": "60e4ea0c-fdad-4d8e-ab7b-21b7e7b22bca"
      },
      "source": [
        "# priviewing the dataset\n",
        "df1 = pd.read_excel('/content/cells_geo_description.xlsx', delimiter = ',')\n",
        "df1\n",
        "\n",
        "# view column names to help us get familiar with the dataset\n",
        "df1.columns.values.tolist()"
      ],
      "execution_count": 25,
      "outputs": [
        {
          "output_type": "execute_result",
          "data": {
            "text/plain": [
              "['Column name', 'Description', 'Format']"
            ]
          },
          "metadata": {
            "tags": []
          },
          "execution_count": 25
        }
      ]
    },
    {
      "cell_type": "code",
      "metadata": {
        "id": "28m2SQ5JvxCs",
        "colab_type": "code",
        "colab": {
          "base_uri": "https://localhost:8080/",
          "height": 195
        },
        "outputId": "6d163fba-9764-48c6-f7d6-882769a7b5d7"
      },
      "source": [
        "# load first five rows to better understand the dataset\n",
        "df1.head(5)"
      ],
      "execution_count": 26,
      "outputs": [
        {
          "output_type": "execute_result",
          "data": {
            "text/html": [
              "<div>\n",
              "<style scoped>\n",
              "    .dataframe tbody tr th:only-of-type {\n",
              "        vertical-align: middle;\n",
              "    }\n",
              "\n",
              "    .dataframe tbody tr th {\n",
              "        vertical-align: top;\n",
              "    }\n",
              "\n",
              "    .dataframe thead th {\n",
              "        text-align: right;\n",
              "    }\n",
              "</style>\n",
              "<table border=\"1\" class=\"dataframe\">\n",
              "  <thead>\n",
              "    <tr style=\"text-align: right;\">\n",
              "      <th></th>\n",
              "      <th>Column name</th>\n",
              "      <th>Description</th>\n",
              "      <th>Format</th>\n",
              "    </tr>\n",
              "  </thead>\n",
              "  <tbody>\n",
              "    <tr>\n",
              "      <th>0</th>\n",
              "      <td>VILLES</td>\n",
              "      <td>City</td>\n",
              "      <td>String</td>\n",
              "    </tr>\n",
              "    <tr>\n",
              "      <th>1</th>\n",
              "      <td>STATUS</td>\n",
              "      <td>In Service or not</td>\n",
              "      <td>String</td>\n",
              "    </tr>\n",
              "    <tr>\n",
              "      <th>2</th>\n",
              "      <td>LOCALISATION</td>\n",
              "      <td>in ABIDJAN or not</td>\n",
              "      <td>String</td>\n",
              "    </tr>\n",
              "    <tr>\n",
              "      <th>3</th>\n",
              "      <td>DECOUPZONE</td>\n",
              "      <td>Geographical Zone</td>\n",
              "      <td>String</td>\n",
              "    </tr>\n",
              "    <tr>\n",
              "      <th>4</th>\n",
              "      <td>ZONENAME</td>\n",
              "      <td>Name of Zone</td>\n",
              "      <td>String</td>\n",
              "    </tr>\n",
              "  </tbody>\n",
              "</table>\n",
              "</div>"
            ],
            "text/plain": [
              "    Column name        Description  Format\n",
              "0        VILLES               City  String\n",
              "1        STATUS  In Service or not  String\n",
              "2  LOCALISATION  in ABIDJAN or not  String\n",
              "3    DECOUPZONE  Geographical Zone  String\n",
              "4      ZONENAME       Name of Zone  String"
            ]
          },
          "metadata": {
            "tags": []
          },
          "execution_count": 26
        }
      ]
    },
    {
      "cell_type": "code",
      "metadata": {
        "id": "RSajGun_kEX-",
        "colab_type": "code",
        "colab": {
          "base_uri": "https://localhost:8080/",
          "height": 202
        },
        "outputId": "299e6e17-a288-4ddf-94e8-ece769501f7e"
      },
      "source": [
        "# priviewing the datasets\n",
        "df2 = pd.read_csv('/content/cells_geo.csv', delimiter=';',header=1,names=['City','Status','Localisation','Decoup_Zone','Zone_Name','Longitude','Latitude','Region','Area','Cell_ID','Site_ID'])\n",
        "\n",
        "# view column names to help us get familiar with the dataset\n",
        "df2.columns.values.tolist()"
      ],
      "execution_count": 36,
      "outputs": [
        {
          "output_type": "execute_result",
          "data": {
            "text/plain": [
              "['City',\n",
              " 'Status',\n",
              " 'Localisation',\n",
              " 'Decoup_Zone',\n",
              " 'Zone_Name',\n",
              " 'Longitude',\n",
              " 'Latitude',\n",
              " 'Region',\n",
              " 'Area',\n",
              " 'Cell_ID',\n",
              " 'Site_ID']"
            ]
          },
          "metadata": {
            "tags": []
          },
          "execution_count": 36
        }
      ]
    },
    {
      "cell_type": "code",
      "metadata": {
        "id": "8DpWyoPzwFl0",
        "colab_type": "code",
        "colab": {
          "base_uri": "https://localhost:8080/",
          "height": 195
        },
        "outputId": "cf2919c6-133a-4257-e47d-6ddb5f5c97d1"
      },
      "source": [
        "# load first five columns to better understand the dataset\n",
        "df2.head(5)"
      ],
      "execution_count": 37,
      "outputs": [
        {
          "output_type": "execute_result",
          "data": {
            "text/html": [
              "<div>\n",
              "<style scoped>\n",
              "    .dataframe tbody tr th:only-of-type {\n",
              "        vertical-align: middle;\n",
              "    }\n",
              "\n",
              "    .dataframe tbody tr th {\n",
              "        vertical-align: top;\n",
              "    }\n",
              "\n",
              "    .dataframe thead th {\n",
              "        text-align: right;\n",
              "    }\n",
              "</style>\n",
              "<table border=\"1\" class=\"dataframe\">\n",
              "  <thead>\n",
              "    <tr style=\"text-align: right;\">\n",
              "      <th></th>\n",
              "      <th>City</th>\n",
              "      <th>Status</th>\n",
              "      <th>Localisation</th>\n",
              "      <th>Decoup_Zone</th>\n",
              "      <th>Zone_Name</th>\n",
              "      <th>Longitude</th>\n",
              "      <th>Latitude</th>\n",
              "      <th>Region</th>\n",
              "      <th>Area</th>\n",
              "      <th>Cell_ID</th>\n",
              "      <th>Site_ID</th>\n",
              "    </tr>\n",
              "  </thead>\n",
              "  <tbody>\n",
              "    <tr>\n",
              "      <th>1</th>\n",
              "      <td>ADJAME</td>\n",
              "      <td>In Service</td>\n",
              "      <td>ABIDJAN</td>\n",
              "      <td>\"Abidjan_EST</td>\n",
              "      <td>AGBANNEW</td>\n",
              "      <td>-4.000667</td>\n",
              "      <td>5.368194</td>\n",
              "      <td>LAGUNE</td>\n",
              "      <td>NaN</td>\n",
              "      <td>1502501d78</td>\n",
              "      <td>0bb492ef17</td>\n",
              "    </tr>\n",
              "    <tr>\n",
              "      <th>2</th>\n",
              "      <td>ADJAME</td>\n",
              "      <td>In Service</td>\n",
              "      <td>ABIDJAN</td>\n",
              "      <td>\"Abidjan_EST</td>\n",
              "      <td>AGBANNEW</td>\n",
              "      <td>-4.000667</td>\n",
              "      <td>5.368194</td>\n",
              "      <td>LAGUNE</td>\n",
              "      <td>NaN</td>\n",
              "      <td>0c2e182a0c</td>\n",
              "      <td>0bb492ef17</td>\n",
              "    </tr>\n",
              "    <tr>\n",
              "      <th>3</th>\n",
              "      <td>ASSINIE</td>\n",
              "      <td>In Service</td>\n",
              "      <td>INTERIEUR</td>\n",
              "      <td>Grand-EST</td>\n",
              "      <td>ASSINIE\"</td>\n",
              "      <td>-3.488467</td>\n",
              "      <td>5.158761</td>\n",
              "      <td>SUD COMOE</td>\n",
              "      <td>NaN</td>\n",
              "      <td>69bdfc69fd</td>\n",
              "      <td>8a1e6ce31f</td>\n",
              "    </tr>\n",
              "    <tr>\n",
              "      <th>4</th>\n",
              "      <td>ASSINIE</td>\n",
              "      <td>In Service</td>\n",
              "      <td>INTERIEUR</td>\n",
              "      <td>Grand-EST</td>\n",
              "      <td>ASSINIE\"</td>\n",
              "      <td>-3.488467</td>\n",
              "      <td>5.158761</td>\n",
              "      <td>SUD COMOE</td>\n",
              "      <td>NaN</td>\n",
              "      <td>7a1029d2ab</td>\n",
              "      <td>8a1e6ce31f</td>\n",
              "    </tr>\n",
              "    <tr>\n",
              "      <th>5</th>\n",
              "      <td>ASSINIE</td>\n",
              "      <td>In Service</td>\n",
              "      <td>INTERIEUR</td>\n",
              "      <td>Grand-EST</td>\n",
              "      <td>ASSINIE\"</td>\n",
              "      <td>-3.488467</td>\n",
              "      <td>5.158761</td>\n",
              "      <td>SUD COMOE</td>\n",
              "      <td>NaN</td>\n",
              "      <td>0b4f56438f</td>\n",
              "      <td>8a1e6ce31f</td>\n",
              "    </tr>\n",
              "  </tbody>\n",
              "</table>\n",
              "</div>"
            ],
            "text/plain": [
              "      City      Status Localisation  ... Area     Cell_ID     Site_ID\n",
              "1   ADJAME  In Service      ABIDJAN  ...  NaN  1502501d78  0bb492ef17\n",
              "2   ADJAME  In Service      ABIDJAN  ...  NaN  0c2e182a0c  0bb492ef17\n",
              "3  ASSINIE  In Service    INTERIEUR  ...  NaN  69bdfc69fd  8a1e6ce31f\n",
              "4  ASSINIE  In Service    INTERIEUR  ...  NaN  7a1029d2ab  8a1e6ce31f\n",
              "5  ASSINIE  In Service    INTERIEUR  ...  NaN  0b4f56438f  8a1e6ce31f\n",
              "\n",
              "[5 rows x 11 columns]"
            ]
          },
          "metadata": {
            "tags": []
          },
          "execution_count": 37
        }
      ]
    },
    {
      "cell_type": "code",
      "metadata": {
        "id": "sSBAhm_OghT7",
        "colab_type": "code",
        "colab": {
          "base_uri": "https://localhost:8080/",
          "height": 34
        },
        "outputId": "77978818-b52a-48ad-d6ce-e20813cb5482"
      },
      "source": [
        "# previewing the datasets\n",
        "df3 = pd.read_excel('/content/CDR_description.xlsx', delimiter = ',')\n",
        "df3.columns.values.tolist()"
      ],
      "execution_count": 32,
      "outputs": [
        {
          "output_type": "execute_result",
          "data": {
            "text/plain": [
              "['Column name', 'Description', 'Format']"
            ]
          },
          "metadata": {
            "tags": []
          },
          "execution_count": 32
        }
      ]
    },
    {
      "cell_type": "code",
      "metadata": {
        "id": "LKLMupY7xJko",
        "colab_type": "code",
        "colab": {
          "base_uri": "https://localhost:8080/",
          "height": 195
        },
        "outputId": "d5da0e02-abb7-4a53-9397-035586224d9f"
      },
      "source": [
        "# load first five columns to better understand the dataset\n",
        "df3.head(5)"
      ],
      "execution_count": 33,
      "outputs": [
        {
          "output_type": "execute_result",
          "data": {
            "text/html": [
              "<div>\n",
              "<style scoped>\n",
              "    .dataframe tbody tr th:only-of-type {\n",
              "        vertical-align: middle;\n",
              "    }\n",
              "\n",
              "    .dataframe tbody tr th {\n",
              "        vertical-align: top;\n",
              "    }\n",
              "\n",
              "    .dataframe thead th {\n",
              "        text-align: right;\n",
              "    }\n",
              "</style>\n",
              "<table border=\"1\" class=\"dataframe\">\n",
              "  <thead>\n",
              "    <tr style=\"text-align: right;\">\n",
              "      <th></th>\n",
              "      <th>Column name</th>\n",
              "      <th>Description</th>\n",
              "      <th>Format</th>\n",
              "    </tr>\n",
              "  </thead>\n",
              "  <tbody>\n",
              "    <tr>\n",
              "      <th>0</th>\n",
              "      <td>PRODUCT</td>\n",
              "      <td>Voice or SMS</td>\n",
              "      <td>String</td>\n",
              "    </tr>\n",
              "    <tr>\n",
              "      <th>1</th>\n",
              "      <td>VALUE</td>\n",
              "      <td>Billing price</td>\n",
              "      <td>Integer</td>\n",
              "    </tr>\n",
              "    <tr>\n",
              "      <th>2</th>\n",
              "      <td>DATE_TIME</td>\n",
              "      <td>Time in format yyyy-MM-dd hh:mm:ss.0</td>\n",
              "      <td>String</td>\n",
              "    </tr>\n",
              "    <tr>\n",
              "      <th>3</th>\n",
              "      <td>CELL_ON_SITE</td>\n",
              "      <td>Which cell in the site was used (not needed here)</td>\n",
              "      <td>Integer</td>\n",
              "    </tr>\n",
              "    <tr>\n",
              "      <th>4</th>\n",
              "      <td>DW_A_NUMBER_INT</td>\n",
              "      <td>Anonymized phone number of the person for whic...</td>\n",
              "      <td>String</td>\n",
              "    </tr>\n",
              "  </tbody>\n",
              "</table>\n",
              "</div>"
            ],
            "text/plain": [
              "       Column name                                        Description   Format\n",
              "0          PRODUCT                                       Voice or SMS   String\n",
              "1            VALUE                                      Billing price  Integer\n",
              "2        DATE_TIME               Time in format yyyy-MM-dd hh:mm:ss.0   String\n",
              "3     CELL_ON_SITE  Which cell in the site was used (not needed here)  Integer\n",
              "4  DW_A_NUMBER_INT  Anonymized phone number of the person for whic...   String"
            ]
          },
          "metadata": {
            "tags": []
          },
          "execution_count": 33
        }
      ]
    },
    {
      "cell_type": "code",
      "metadata": {
        "id": "ra-7-mrQjGjI",
        "colab_type": "code",
        "colab": {
          "base_uri": "https://localhost:8080/",
          "height": 185
        },
        "outputId": "dd9fdee3-ef0e-4bd9-a30d-3541acd6ebf6"
      },
      "source": [
        "# priviewing the datasets\n",
        "df4 = pd.read_csv('/content/Telcom_dataset.csv',header=0,names=['Product','Value','Date_Time','Cell_On_Site','DW_A_Number_Int','DW_B_Number_Int','Country_A','Country_B','Cell_ID','Site_ID'])\n",
        "df4.columns.values.tolist()"
      ],
      "execution_count": 41,
      "outputs": [
        {
          "output_type": "execute_result",
          "data": {
            "text/plain": [
              "['Product',\n",
              " 'Value',\n",
              " 'Date_Time',\n",
              " 'Cell_On_Site',\n",
              " 'DW_A_Number_Int',\n",
              " 'DW_B_Number_Int',\n",
              " 'Country_A',\n",
              " 'Country_B',\n",
              " 'Cell_ID',\n",
              " 'Site_ID']"
            ]
          },
          "metadata": {
            "tags": []
          },
          "execution_count": 41
        }
      ]
    },
    {
      "cell_type": "code",
      "metadata": {
        "id": "NGekgyNzjYJS",
        "colab_type": "code",
        "colab": {
          "base_uri": "https://localhost:8080/",
          "height": 195
        },
        "outputId": "c83d1695-0ab3-4952-c331-8310bb481112"
      },
      "source": [
        "df4.head(5)"
      ],
      "execution_count": 42,
      "outputs": [
        {
          "output_type": "execute_result",
          "data": {
            "text/html": [
              "<div>\n",
              "<style scoped>\n",
              "    .dataframe tbody tr th:only-of-type {\n",
              "        vertical-align: middle;\n",
              "    }\n",
              "\n",
              "    .dataframe tbody tr th {\n",
              "        vertical-align: top;\n",
              "    }\n",
              "\n",
              "    .dataframe thead th {\n",
              "        text-align: right;\n",
              "    }\n",
              "</style>\n",
              "<table border=\"1\" class=\"dataframe\">\n",
              "  <thead>\n",
              "    <tr style=\"text-align: right;\">\n",
              "      <th></th>\n",
              "      <th>Product</th>\n",
              "      <th>Value</th>\n",
              "      <th>Date_Time</th>\n",
              "      <th>Cell_On_Site</th>\n",
              "      <th>DW_A_Number_Int</th>\n",
              "      <th>DW_B_Number_Int</th>\n",
              "      <th>Country_A</th>\n",
              "      <th>Country_B</th>\n",
              "      <th>Cell_ID</th>\n",
              "      <th>Site_ID</th>\n",
              "    </tr>\n",
              "  </thead>\n",
              "  <tbody>\n",
              "    <tr>\n",
              "      <th>0</th>\n",
              "      <td>Voice</td>\n",
              "      <td>0</td>\n",
              "      <td>2012-05-06 23:04:37.0</td>\n",
              "      <td>1</td>\n",
              "      <td>49fae048b547780</td>\n",
              "      <td>1a49f8b0ded9de6</td>\n",
              "      <td>19e2e</td>\n",
              "      <td>19e2e</td>\n",
              "      <td>/TJNe+Mmtu</td>\n",
              "      <td>/TJNe+Mmtu</td>\n",
              "    </tr>\n",
              "    <tr>\n",
              "      <th>1</th>\n",
              "      <td>sms</td>\n",
              "      <td>0</td>\n",
              "      <td>2012-05-06 23:05:25.0</td>\n",
              "      <td>0</td>\n",
              "      <td>7a54a6eaee19e65</td>\n",
              "      <td>93343ba6e41af95</td>\n",
              "      <td>19e2e</td>\n",
              "      <td>19e2e</td>\n",
              "      <td>/+cKZKIp41</td>\n",
              "      <td>/+cKZKIp41</td>\n",
              "    </tr>\n",
              "    <tr>\n",
              "      <th>2</th>\n",
              "      <td>sms</td>\n",
              "      <td>25</td>\n",
              "      <td>2012-05-06 23:05:41.0</td>\n",
              "      <td>0</td>\n",
              "      <td>6008887b0207d82</td>\n",
              "      <td>7aacc9709ce0a20</td>\n",
              "      <td>19e2e</td>\n",
              "      <td>19e2e</td>\n",
              "      <td>/u0FSD+ahi</td>\n",
              "      <td>/u0FSD+ahi</td>\n",
              "    </tr>\n",
              "    <tr>\n",
              "      <th>3</th>\n",
              "      <td>Voice</td>\n",
              "      <td>56</td>\n",
              "      <td>2012-05-06 23:05:42.0</td>\n",
              "      <td>1</td>\n",
              "      <td>7370032e20f4e96</td>\n",
              "      <td>6af4a60e74c91d3</td>\n",
              "      <td>19e2e</td>\n",
              "      <td>19e2e</td>\n",
              "      <td>+cNeJzsTp3</td>\n",
              "      <td>+cNeJzsTp3</td>\n",
              "    </tr>\n",
              "    <tr>\n",
              "      <th>4</th>\n",
              "      <td>Voice</td>\n",
              "      <td>14</td>\n",
              "      <td>2012-05-06 23:06:29.0</td>\n",
              "      <td>1</td>\n",
              "      <td>966ba4656e38e62</td>\n",
              "      <td>02aa736ee555d5c</td>\n",
              "      <td>19e2e</td>\n",
              "      <td>19e2e</td>\n",
              "      <td>051KhYDCpv</td>\n",
              "      <td>051KhYDCpv</td>\n",
              "    </tr>\n",
              "  </tbody>\n",
              "</table>\n",
              "</div>"
            ],
            "text/plain": [
              "  Product  Value              Date_Time  ... Country_B     Cell_ID     Site_ID\n",
              "0   Voice      0  2012-05-06 23:04:37.0  ...     19e2e  /TJNe+Mmtu  /TJNe+Mmtu\n",
              "1     sms      0  2012-05-06 23:05:25.0  ...     19e2e  /+cKZKIp41  /+cKZKIp41\n",
              "2     sms     25  2012-05-06 23:05:41.0  ...     19e2e  /u0FSD+ahi  /u0FSD+ahi\n",
              "3   Voice     56  2012-05-06 23:05:42.0  ...     19e2e  +cNeJzsTp3  +cNeJzsTp3\n",
              "4   Voice     14  2012-05-06 23:06:29.0  ...     19e2e  051KhYDCpv  051KhYDCpv\n",
              "\n",
              "[5 rows x 10 columns]"
            ]
          },
          "metadata": {
            "tags": []
          },
          "execution_count": 42
        }
      ]
    },
    {
      "cell_type": "code",
      "metadata": {
        "id": "xi2_URrhjazP",
        "colab_type": "code",
        "colab": {
          "base_uri": "https://localhost:8080/",
          "height": 185
        },
        "outputId": "3800551e-5e35-4806-9de2-8cdb0bbde63c"
      },
      "source": [
        "# priviewing the dataset\n",
        "df5 = pd.read_csv('/content/Telcom_dataset2.csv',header=1,names=['Product','Value','Date_Time','Cell_On_Site','DW_A_Number','DW_B_Number','Country_A','Country_B','Cell_ID','Site_ID'])\n",
        "df5.columns.values.tolist()"
      ],
      "execution_count": 43,
      "outputs": [
        {
          "output_type": "execute_result",
          "data": {
            "text/plain": [
              "['Product',\n",
              " 'Value',\n",
              " 'Date_Time',\n",
              " 'Cell_On_Site',\n",
              " 'DW_A_Number',\n",
              " 'DW_B_Number',\n",
              " 'Country_A',\n",
              " 'Country_B',\n",
              " 'Cell_ID',\n",
              " 'Site_ID']"
            ]
          },
          "metadata": {
            "tags": []
          },
          "execution_count": 43
        }
      ]
    },
    {
      "cell_type": "code",
      "metadata": {
        "id": "xMVPCzlGjodj",
        "colab_type": "code",
        "colab": {
          "base_uri": "https://localhost:8080/",
          "height": 195
        },
        "outputId": "5317a286-b0e3-4753-df65-4599a64edbbb"
      },
      "source": [
        "df5.head(5)"
      ],
      "execution_count": 44,
      "outputs": [
        {
          "output_type": "execute_result",
          "data": {
            "text/html": [
              "<div>\n",
              "<style scoped>\n",
              "    .dataframe tbody tr th:only-of-type {\n",
              "        vertical-align: middle;\n",
              "    }\n",
              "\n",
              "    .dataframe tbody tr th {\n",
              "        vertical-align: top;\n",
              "    }\n",
              "\n",
              "    .dataframe thead th {\n",
              "        text-align: right;\n",
              "    }\n",
              "</style>\n",
              "<table border=\"1\" class=\"dataframe\">\n",
              "  <thead>\n",
              "    <tr style=\"text-align: right;\">\n",
              "      <th></th>\n",
              "      <th>Product</th>\n",
              "      <th>Value</th>\n",
              "      <th>Date_Time</th>\n",
              "      <th>Cell_On_Site</th>\n",
              "      <th>DW_A_Number</th>\n",
              "      <th>DW_B_Number</th>\n",
              "      <th>Country_A</th>\n",
              "      <th>Country_B</th>\n",
              "      <th>Cell_ID</th>\n",
              "      <th>Site_ID</th>\n",
              "    </tr>\n",
              "  </thead>\n",
              "  <tbody>\n",
              "    <tr>\n",
              "      <th>0</th>\n",
              "      <td>Voice</td>\n",
              "      <td>0</td>\n",
              "      <td>2012-05-07 23:03:44.0</td>\n",
              "      <td>1</td>\n",
              "      <td>ff16d6ac74c1c64</td>\n",
              "      <td>87d87309c15a8c9</td>\n",
              "      <td>19e2e</td>\n",
              "      <td>19e2e</td>\n",
              "      <td>+854AcBQT2</td>\n",
              "      <td>+854AcBQT2</td>\n",
              "    </tr>\n",
              "    <tr>\n",
              "      <th>1</th>\n",
              "      <td>sms</td>\n",
              "      <td>0</td>\n",
              "      <td>2012-05-07 23:04:06.0</td>\n",
              "      <td>0</td>\n",
              "      <td>98d9f2fb5ff624b</td>\n",
              "      <td>93343ba6e41af95</td>\n",
              "      <td>19e2e</td>\n",
              "      <td>19e2e</td>\n",
              "      <td>+laSrk7g6q</td>\n",
              "      <td>+laSrk7g6q</td>\n",
              "    </tr>\n",
              "    <tr>\n",
              "      <th>2</th>\n",
              "      <td>Voice</td>\n",
              "      <td>37</td>\n",
              "      <td>2012-05-07 23:04:48.0</td>\n",
              "      <td>1</td>\n",
              "      <td>3f9c8a33ec7be1f</td>\n",
              "      <td>7d05a38f89c49d8</td>\n",
              "      <td>19e2e</td>\n",
              "      <td>19e2e</td>\n",
              "      <td>/xvRrCVKoQ</td>\n",
              "      <td>/xvRrCVKoQ</td>\n",
              "    </tr>\n",
              "    <tr>\n",
              "      <th>3</th>\n",
              "      <td>sms</td>\n",
              "      <td>25</td>\n",
              "      <td>2012-05-07 23:04:58.0</td>\n",
              "      <td>1</td>\n",
              "      <td>7bcccc03adf3864</td>\n",
              "      <td>56a5d5430d2fa86</td>\n",
              "      <td>19e2e</td>\n",
              "      <td>19e2e</td>\n",
              "      <td>+bO+qkSonO</td>\n",
              "      <td>+bO+qkSonO</td>\n",
              "    </tr>\n",
              "    <tr>\n",
              "      <th>4</th>\n",
              "      <td>sms</td>\n",
              "      <td>0</td>\n",
              "      <td>2012-05-07 23:05:41.0</td>\n",
              "      <td>4</td>\n",
              "      <td>d73f11fdc9fcb30</td>\n",
              "      <td>ec90fdb12b50cbc</td>\n",
              "      <td>19e2e</td>\n",
              "      <td>19e2e</td>\n",
              "      <td>/MMplBlWjh</td>\n",
              "      <td>/MMplBlWjh</td>\n",
              "    </tr>\n",
              "  </tbody>\n",
              "</table>\n",
              "</div>"
            ],
            "text/plain": [
              "  Product  Value              Date_Time  ... Country_B     Cell_ID     Site_ID\n",
              "0   Voice      0  2012-05-07 23:03:44.0  ...     19e2e  +854AcBQT2  +854AcBQT2\n",
              "1     sms      0  2012-05-07 23:04:06.0  ...     19e2e  +laSrk7g6q  +laSrk7g6q\n",
              "2   Voice     37  2012-05-07 23:04:48.0  ...     19e2e  /xvRrCVKoQ  /xvRrCVKoQ\n",
              "3     sms     25  2012-05-07 23:04:58.0  ...     19e2e  +bO+qkSonO  +bO+qkSonO\n",
              "4     sms      0  2012-05-07 23:05:41.0  ...     19e2e  /MMplBlWjh  /MMplBlWjh\n",
              "\n",
              "[5 rows x 10 columns]"
            ]
          },
          "metadata": {
            "tags": []
          },
          "execution_count": 44
        }
      ]
    },
    {
      "cell_type": "code",
      "metadata": {
        "id": "mSVDfLE6jrJE",
        "colab_type": "code",
        "colab": {
          "base_uri": "https://localhost:8080/",
          "height": 185
        },
        "outputId": "b9db70a1-ff30-4c48-c842-1913e423b4cb"
      },
      "source": [
        "# priviewing the dataset\n",
        "df6 = pd.read_csv('/content/Telcom_dataset3.csv',header=1, names=['Product','Value','Date_Time','Cell_On_Site','DW_A_Number_Int','DW_B_Number_Int','Country_A','Country_B','Cell_ID','Site_ID'])\n",
        "df6.columns.values.tolist()"
      ],
      "execution_count": 45,
      "outputs": [
        {
          "output_type": "execute_result",
          "data": {
            "text/plain": [
              "['Product',\n",
              " 'Value',\n",
              " 'Date_Time',\n",
              " 'Cell_On_Site',\n",
              " 'DW_A_Number_Int',\n",
              " 'DW_B_Number_Int',\n",
              " 'Country_A',\n",
              " 'Country_B',\n",
              " 'Cell_ID',\n",
              " 'Site_ID']"
            ]
          },
          "metadata": {
            "tags": []
          },
          "execution_count": 45
        }
      ]
    },
    {
      "cell_type": "code",
      "metadata": {
        "id": "nFLDeX2uj2Ov",
        "colab_type": "code",
        "colab": {
          "base_uri": "https://localhost:8080/",
          "height": 195
        },
        "outputId": "3fcb940f-f2e0-4c35-9b68-8d0f7c8c7e78"
      },
      "source": [
        "df6.head(5)"
      ],
      "execution_count": 46,
      "outputs": [
        {
          "output_type": "execute_result",
          "data": {
            "text/html": [
              "<div>\n",
              "<style scoped>\n",
              "    .dataframe tbody tr th:only-of-type {\n",
              "        vertical-align: middle;\n",
              "    }\n",
              "\n",
              "    .dataframe tbody tr th {\n",
              "        vertical-align: top;\n",
              "    }\n",
              "\n",
              "    .dataframe thead th {\n",
              "        text-align: right;\n",
              "    }\n",
              "</style>\n",
              "<table border=\"1\" class=\"dataframe\">\n",
              "  <thead>\n",
              "    <tr style=\"text-align: right;\">\n",
              "      <th></th>\n",
              "      <th>Product</th>\n",
              "      <th>Value</th>\n",
              "      <th>Date_Time</th>\n",
              "      <th>Cell_On_Site</th>\n",
              "      <th>DW_A_Number_Int</th>\n",
              "      <th>DW_B_Number_Int</th>\n",
              "      <th>Country_A</th>\n",
              "      <th>Country_B</th>\n",
              "      <th>Cell_ID</th>\n",
              "      <th>Site_ID</th>\n",
              "    </tr>\n",
              "  </thead>\n",
              "  <tbody>\n",
              "    <tr>\n",
              "      <th>0</th>\n",
              "      <td>sms</td>\n",
              "      <td>0</td>\n",
              "      <td>2012-05-08 23:01:31.0</td>\n",
              "      <td>1</td>\n",
              "      <td>a0a597384c612d7</td>\n",
              "      <td>cf3b218f1dde792</td>\n",
              "      <td>19e2e</td>\n",
              "      <td>19e2e</td>\n",
              "      <td>+Fs4mTvdKx</td>\n",
              "      <td>+Fs4mTvdKx</td>\n",
              "    </tr>\n",
              "    <tr>\n",
              "      <th>1</th>\n",
              "      <td>Voice</td>\n",
              "      <td>10</td>\n",
              "      <td>2012-05-08 23:02:59.0</td>\n",
              "      <td>1</td>\n",
              "      <td>5441a9a58c97132</td>\n",
              "      <td>52f8b299515b9b7</td>\n",
              "      <td>19e2e</td>\n",
              "      <td>19e2e</td>\n",
              "      <td>+ZaaZozy/+</td>\n",
              "      <td>+ZaaZozy/+</td>\n",
              "    </tr>\n",
              "    <tr>\n",
              "      <th>2</th>\n",
              "      <td>sms</td>\n",
              "      <td>0</td>\n",
              "      <td>2012-05-08 23:03:04.0</td>\n",
              "      <td>0</td>\n",
              "      <td>8ab8b9ed6989f61</td>\n",
              "      <td>e09e736e46c5c3d</td>\n",
              "      <td>19e2e</td>\n",
              "      <td>19e2e</td>\n",
              "      <td>+cNeJzsTp3</td>\n",
              "      <td>+cNeJzsTp3</td>\n",
              "    </tr>\n",
              "    <tr>\n",
              "      <th>3</th>\n",
              "      <td>Voice</td>\n",
              "      <td>22</td>\n",
              "      <td>2012-05-08 23:03:16.0</td>\n",
              "      <td>4</td>\n",
              "      <td>52662a62b199334</td>\n",
              "      <td>2186273faab4602</td>\n",
              "      <td>19e2e</td>\n",
              "      <td>19e2e</td>\n",
              "      <td>/eeMklgyJA</td>\n",
              "      <td>/eeMklgyJA</td>\n",
              "    </tr>\n",
              "    <tr>\n",
              "      <th>4</th>\n",
              "      <td>Voice</td>\n",
              "      <td>10</td>\n",
              "      <td>2012-05-08 23:03:59.0</td>\n",
              "      <td>0</td>\n",
              "      <td>c572f692ed9d25f</td>\n",
              "      <td>5e6221fa6b35f62</td>\n",
              "      <td>19e2e</td>\n",
              "      <td>19e2e</td>\n",
              "      <td>+e+xcimwre</td>\n",
              "      <td>+e+xcimwre</td>\n",
              "    </tr>\n",
              "  </tbody>\n",
              "</table>\n",
              "</div>"
            ],
            "text/plain": [
              "  Product  Value              Date_Time  ... Country_B     Cell_ID     Site_ID\n",
              "0     sms      0  2012-05-08 23:01:31.0  ...     19e2e  +Fs4mTvdKx  +Fs4mTvdKx\n",
              "1   Voice     10  2012-05-08 23:02:59.0  ...     19e2e  +ZaaZozy/+  +ZaaZozy/+\n",
              "2     sms      0  2012-05-08 23:03:04.0  ...     19e2e  +cNeJzsTp3  +cNeJzsTp3\n",
              "3   Voice     22  2012-05-08 23:03:16.0  ...     19e2e  /eeMklgyJA  /eeMklgyJA\n",
              "4   Voice     10  2012-05-08 23:03:59.0  ...     19e2e  +e+xcimwre  +e+xcimwre\n",
              "\n",
              "[5 rows x 10 columns]"
            ]
          },
          "metadata": {
            "tags": []
          },
          "execution_count": 46
        }
      ]
    },
    {
      "cell_type": "markdown",
      "metadata": {
        "id": "tiFlQXvY2MSK",
        "colab_type": "text"
      },
      "source": [
        "# Data Understanding - Phase 2"
      ]
    },
    {
      "cell_type": "code",
      "metadata": {
        "id": "wDaZ-gPp3MnK",
        "colab_type": "code",
        "colab": {
          "base_uri": "https://localhost:8080/",
          "height": 553
        },
        "outputId": "74369b32-6b2f-4da9-8526-826109cb72c3"
      },
      "source": [
        "# Checking descriptive stats for different datasets excluding column description stats\n",
        "# cells geo stats\n",
        "df2.info()\n",
        "df2.describe()"
      ],
      "execution_count": 49,
      "outputs": [
        {
          "output_type": "stream",
          "text": [
            "<class 'pandas.core.frame.DataFrame'>\n",
            "Int64Index: 3973 entries, 1 to 3973\n",
            "Data columns (total 11 columns):\n",
            "City            3973 non-null object\n",
            "Status          3906 non-null object\n",
            "Localisation    3973 non-null object\n",
            "Decoup_Zone     3973 non-null object\n",
            "Zone_Name       3967 non-null object\n",
            "Longitude       3973 non-null float64\n",
            "Latitude        3973 non-null float64\n",
            "Region          3973 non-null object\n",
            "Area            3951 non-null object\n",
            "Cell_ID         3973 non-null object\n",
            "Site_ID         3973 non-null object\n",
            "dtypes: float64(2), object(9)\n",
            "memory usage: 372.5+ KB\n"
          ],
          "name": "stdout"
        },
        {
          "output_type": "execute_result",
          "data": {
            "text/html": [
              "<div>\n",
              "<style scoped>\n",
              "    .dataframe tbody tr th:only-of-type {\n",
              "        vertical-align: middle;\n",
              "    }\n",
              "\n",
              "    .dataframe tbody tr th {\n",
              "        vertical-align: top;\n",
              "    }\n",
              "\n",
              "    .dataframe thead th {\n",
              "        text-align: right;\n",
              "    }\n",
              "</style>\n",
              "<table border=\"1\" class=\"dataframe\">\n",
              "  <thead>\n",
              "    <tr style=\"text-align: right;\">\n",
              "      <th></th>\n",
              "      <th>Longitude</th>\n",
              "      <th>Latitude</th>\n",
              "    </tr>\n",
              "  </thead>\n",
              "  <tbody>\n",
              "    <tr>\n",
              "      <th>count</th>\n",
              "      <td>3973.000000</td>\n",
              "      <td>3973.000000</td>\n",
              "    </tr>\n",
              "    <tr>\n",
              "      <th>mean</th>\n",
              "      <td>-4.877880</td>\n",
              "      <td>6.244970</td>\n",
              "    </tr>\n",
              "    <tr>\n",
              "      <th>std</th>\n",
              "      <td>1.300861</td>\n",
              "      <td>1.304289</td>\n",
              "    </tr>\n",
              "    <tr>\n",
              "      <th>min</th>\n",
              "      <td>-8.503889</td>\n",
              "      <td>0.000000</td>\n",
              "    </tr>\n",
              "    <tr>\n",
              "      <th>25%</th>\n",
              "      <td>-5.846139</td>\n",
              "      <td>5.338639</td>\n",
              "    </tr>\n",
              "    <tr>\n",
              "      <th>50%</th>\n",
              "      <td>-4.084500</td>\n",
              "      <td>5.475000</td>\n",
              "    </tr>\n",
              "    <tr>\n",
              "      <th>75%</th>\n",
              "      <td>-3.993444</td>\n",
              "      <td>6.872306</td>\n",
              "    </tr>\n",
              "    <tr>\n",
              "      <th>max</th>\n",
              "      <td>-0.000000</td>\n",
              "      <td>10.481861</td>\n",
              "    </tr>\n",
              "  </tbody>\n",
              "</table>\n",
              "</div>"
            ],
            "text/plain": [
              "         Longitude     Latitude\n",
              "count  3973.000000  3973.000000\n",
              "mean     -4.877880     6.244970\n",
              "std       1.300861     1.304289\n",
              "min      -8.503889     0.000000\n",
              "25%      -5.846139     5.338639\n",
              "50%      -4.084500     5.475000\n",
              "75%      -3.993444     6.872306\n",
              "max      -0.000000    10.481861"
            ]
          },
          "metadata": {
            "tags": []
          },
          "execution_count": 49
        }
      ]
    },
    {
      "cell_type": "code",
      "metadata": {
        "id": "_pFnzuw13s_O",
        "colab_type": "code",
        "colab": {
          "base_uri": "https://localhost:8080/",
          "height": 218
        },
        "outputId": "4675154a-e1c6-4967-fef8-5a1243c8e2ba"
      },
      "source": [
        "# checking null values in cells geo dataset\n",
        "df2.isnull().sum()"
      ],
      "execution_count": 55,
      "outputs": [
        {
          "output_type": "execute_result",
          "data": {
            "text/plain": [
              "City             0\n",
              "Status          67\n",
              "Localisation     0\n",
              "Decoup_Zone      0\n",
              "Zone_Name        6\n",
              "Longitude        0\n",
              "Latitude         0\n",
              "Region           0\n",
              "Area            22\n",
              "Cell_ID          0\n",
              "Site_ID          0\n",
              "dtype: int64"
            ]
          },
          "metadata": {
            "tags": []
          },
          "execution_count": 55
        }
      ]
    },
    {
      "cell_type": "code",
      "metadata": {
        "id": "uIvijsCP6Z9q",
        "colab_type": "code",
        "colab": {
          "base_uri": "https://localhost:8080/",
          "height": 202
        },
        "outputId": "32cafc98-079e-4e82-f9b9-8da0a5953b0f"
      },
      "source": [
        "# checking unique values in cells geo dataset\n",
        "print('City: ' + str(df2.City.nunique()) + ' out of ' + str(df2.City.count()))\n",
        "print('Status: ' + str(df2.Status.nunique()) + ' out of ' + str(df2.Status.count()))\n",
        "print('Localisation: ' + str(df2.Localisation.nunique()) + ' out of ' + str(df2.Localisation.count()))\n",
        "print('Decoup_Zone: ' + str(df2.Decoup_Zone.nunique()) + ' out of ' + str(df2.Decoup_Zone.count()))\n",
        "print('Zone_Name: ' + str(df2.Zone_Name.nunique()) + ' out of ' + str(df2.Zone_Name.count()))\n",
        "print('Longitude: ' + str(df2.Longitude.nunique()) + ' out of ' + str(df2.Longitude.count()))\n",
        "print('Latitude: ' + str(df2.Latitude.nunique()) + ' out of ' + str(df2.Latitude.count()))\n",
        "print('Region: ' + str(df2.Region.nunique()) + ' out of ' + str(df2.Region.count()))\n",
        "print('Area: ' + str(df2.Area.nunique()) + ' out of ' + str(df2.Area.count()))\n",
        "print('Cell_ID: ' + str(df2.Cell_ID.nunique()) + ' out of ' + str(df2.Cell_ID.count()))\n",
        "print('Site_ID: ' + str(df2.Site_ID.nunique()) + ' out of ' + str(df2.Site_ID.count()))"
      ],
      "execution_count": 63,
      "outputs": [
        {
          "output_type": "stream",
          "text": [
            "City: 504 out of 3973\n",
            "Status: 1 out of 3906\n",
            "Localisation: 2 out of 3973\n",
            "Decoup_Zone: 15 out of 3973\n",
            "Zone_Name: 33 out of 3967\n",
            "Longitude: 1013 out of 3973\n",
            "Latitude: 1023 out of 3973\n",
            "Region: 19 out of 3973\n",
            "Area: 6 out of 3951\n",
            "Cell_ID: 3915 out of 3973\n",
            "Site_ID: 1029 out of 3973\n"
          ],
          "name": "stdout"
        }
      ]
    },
    {
      "cell_type": "code",
      "metadata": {
        "id": "XOYBb-1k9Gii",
        "colab_type": "code",
        "colab": {
          "base_uri": "https://localhost:8080/",
          "height": 34
        },
        "outputId": "2e4f8229-a02a-4f00-8662-34f20db8c5bb"
      },
      "source": [
        "# checking unique values for Status column since it seems to have many duplicates of 'In Service' object and 1 unique obj\n",
        "df2.Status.unique()"
      ],
      "execution_count": 64,
      "outputs": [
        {
          "output_type": "execute_result",
          "data": {
            "text/plain": [
              "array(['In Service', nan], dtype=object)"
            ]
          },
          "metadata": {
            "tags": []
          },
          "execution_count": 64
        }
      ]
    },
    {
      "cell_type": "code",
      "metadata": {
        "id": "zMK9nrRqC9NK",
        "colab_type": "code",
        "colab": {
          "base_uri": "https://localhost:8080/",
          "height": 252
        },
        "outputId": "eca5eb00-9879-4465-cd7e-e70246998aca"
      },
      "source": [
        "# checking for duplicates\n",
        "print(df2[df2.duplicated(keep=False)])"
      ],
      "execution_count": 81,
      "outputs": [
        {
          "output_type": "stream",
          "text": [
            "            City      Status  ...     Cell_ID     Site_ID\n",
            "183   BONGOUANOU         NaN  ...  6750e0fb7b  20387d4292\n",
            "184   BONGOUANOU         NaN  ...  6750e0fb7b  20387d4292\n",
            "185   BONGOUANOU         NaN  ...  6750e0fb7b  20387d4292\n",
            "243   BONGOUANOU         NaN  ...  6750e0fb7b  20387d4292\n",
            "244   BONGOUANOU         NaN  ...  6750e0fb7b  20387d4292\n",
            "...          ...         ...  ...         ...         ...\n",
            "3685  BONGOUANOU         NaN  ...  6750e0fb7b  20387d4292\n",
            "3689      ADJAME  In Service  ...  26a72e2271  5c565fbfb1\n",
            "3690      ADJAME  In Service  ...  fcf8faec3b  5c565fbfb1\n",
            "3698      ADJAME  In Service  ...  26a72e2271  5c565fbfb1\n",
            "3699      ADJAME  In Service  ...  fcf8faec3b  5c565fbfb1\n",
            "\n",
            "[68 rows x 11 columns]\n"
          ],
          "name": "stdout"
        }
      ]
    },
    {
      "cell_type": "code",
      "metadata": {
        "id": "FijqWDZJ3bz0",
        "colab_type": "code",
        "colab": {
          "base_uri": "https://localhost:8080/",
          "height": 536
        },
        "outputId": "38e7d599-0dc2-463b-ee7f-b96498fd3eb9"
      },
      "source": [
        "# CDR Datasets descriptive stats\n",
        "df4.info()\n",
        "df4.describe()"
      ],
      "execution_count": 52,
      "outputs": [
        {
          "output_type": "stream",
          "text": [
            "<class 'pandas.core.frame.DataFrame'>\n",
            "RangeIndex: 5001 entries, 0 to 5000\n",
            "Data columns (total 10 columns):\n",
            "Product            5001 non-null object\n",
            "Value              5001 non-null int64\n",
            "Date_Time          5001 non-null object\n",
            "Cell_On_Site       5001 non-null object\n",
            "DW_A_Number_Int    5001 non-null object\n",
            "DW_B_Number_Int    5001 non-null object\n",
            "Country_A          5001 non-null object\n",
            "Country_B          5001 non-null object\n",
            "Cell_ID            5001 non-null object\n",
            "Site_ID            4285 non-null object\n",
            "dtypes: int64(1), object(9)\n",
            "memory usage: 390.8+ KB\n"
          ],
          "name": "stdout"
        },
        {
          "output_type": "execute_result",
          "data": {
            "text/html": [
              "<div>\n",
              "<style scoped>\n",
              "    .dataframe tbody tr th:only-of-type {\n",
              "        vertical-align: middle;\n",
              "    }\n",
              "\n",
              "    .dataframe tbody tr th {\n",
              "        vertical-align: top;\n",
              "    }\n",
              "\n",
              "    .dataframe thead th {\n",
              "        text-align: right;\n",
              "    }\n",
              "</style>\n",
              "<table border=\"1\" class=\"dataframe\">\n",
              "  <thead>\n",
              "    <tr style=\"text-align: right;\">\n",
              "      <th></th>\n",
              "      <th>Value</th>\n",
              "    </tr>\n",
              "  </thead>\n",
              "  <tbody>\n",
              "    <tr>\n",
              "      <th>count</th>\n",
              "      <td>5001.000000</td>\n",
              "    </tr>\n",
              "    <tr>\n",
              "      <th>mean</th>\n",
              "      <td>25.869626</td>\n",
              "    </tr>\n",
              "    <tr>\n",
              "      <th>std</th>\n",
              "      <td>101.934502</td>\n",
              "    </tr>\n",
              "    <tr>\n",
              "      <th>min</th>\n",
              "      <td>0.000000</td>\n",
              "    </tr>\n",
              "    <tr>\n",
              "      <th>25%</th>\n",
              "      <td>0.000000</td>\n",
              "    </tr>\n",
              "    <tr>\n",
              "      <th>50%</th>\n",
              "      <td>0.000000</td>\n",
              "    </tr>\n",
              "    <tr>\n",
              "      <th>75%</th>\n",
              "      <td>25.000000</td>\n",
              "    </tr>\n",
              "    <tr>\n",
              "      <th>max</th>\n",
              "      <td>4440.000000</td>\n",
              "    </tr>\n",
              "  </tbody>\n",
              "</table>\n",
              "</div>"
            ],
            "text/plain": [
              "             Value\n",
              "count  5001.000000\n",
              "mean     25.869626\n",
              "std     101.934502\n",
              "min       0.000000\n",
              "25%       0.000000\n",
              "50%       0.000000\n",
              "75%      25.000000\n",
              "max    4440.000000"
            ]
          },
          "metadata": {
            "tags": []
          },
          "execution_count": 52
        }
      ]
    },
    {
      "cell_type": "code",
      "metadata": {
        "id": "zA1SM4al9n0W",
        "colab_type": "code",
        "colab": {
          "base_uri": "https://localhost:8080/",
          "height": 202
        },
        "outputId": "ae9ec26b-9e93-477c-df69-94dc72e28634"
      },
      "source": [
        "# checking null values\n",
        "df4.isnull().sum()"
      ],
      "execution_count": 67,
      "outputs": [
        {
          "output_type": "execute_result",
          "data": {
            "text/plain": [
              "Product              0\n",
              "Value                0\n",
              "Date_Time            0\n",
              "Cell_On_Site         0\n",
              "DW_A_Number_Int      0\n",
              "DW_B_Number_Int      0\n",
              "Country_A            0\n",
              "Country_B            0\n",
              "Cell_ID              0\n",
              "Site_ID            716\n",
              "dtype: int64"
            ]
          },
          "metadata": {
            "tags": []
          },
          "execution_count": 67
        }
      ]
    },
    {
      "cell_type": "code",
      "metadata": {
        "id": "hRL83iq793fH",
        "colab_type": "code",
        "colab": {
          "base_uri": "https://localhost:8080/",
          "height": 185
        },
        "outputId": "946dd513-15cb-4ef6-fdc8-e11ba1f5a8f0"
      },
      "source": [
        "# checking unique values\n",
        "print('Product: ' + str(df4.Product.nunique()) + ' out of ' + str(df4.Product.count()))\n",
        "print('Value: ' + str(df4.Value.nunique()) + ' out of ' + str(df4.Value.count()))\n",
        "print('Date_Time: ' + str(df4.Date_Time.nunique()) + ' out of ' + str(df4.Date_Time.count()))\n",
        "print('Cell_On_Site: ' + str(df4.Cell_On_Site.nunique()) + ' out of ' + str(df4.Cell_On_Site.count()))\n",
        "print('DW_A_Number_Int: ' + str(df4.DW_A_Number_Int.nunique()) + ' out of ' + str(df4.DW_A_Number_Int.count()))\n",
        "print('DW_B_Number_Int: ' + str(df4.DW_B_Number_Int.nunique()) + ' out of ' + str(df4.DW_B_Number_Int.count()))\n",
        "print('Country_A: ' + str(df4.Country_A.nunique()) + ' out of ' + str(df4.Country_A.count()))\n",
        "print('Country_B: ' + str(df4.Country_B.nunique()) + ' out of ' + str(df4.Country_B.count()))\n",
        "print('Cell_ID: ' + str(df4.Cell_ID.nunique()) + ' out of ' + str(df4.Cell_ID.count()))\n",
        "print('Site_ID: ' + str(df4.Site_ID.nunique()) + ' out of ' + str(df4.Site_ID.count()))"
      ],
      "execution_count": 71,
      "outputs": [
        {
          "output_type": "stream",
          "text": [
            "Product: 3 out of 5001\n",
            "Value: 242 out of 5001\n",
            "Date_Time: 708 out of 5001\n",
            "Cell_On_Site: 7 out of 5001\n",
            "DW_A_Number_Int: 3903 out of 5001\n",
            "DW_B_Number_Int: 2848 out of 5001\n",
            "Country_A: 1 out of 5001\n",
            "Country_B: 2 out of 5001\n",
            "Cell_ID: 1790 out of 5001\n",
            "Site_ID: 1076 out of 4285\n"
          ],
          "name": "stdout"
        }
      ]
    },
    {
      "cell_type": "code",
      "metadata": {
        "id": "T_4ESDC__jmJ",
        "colab_type": "code",
        "colab": {
          "base_uri": "https://localhost:8080/",
          "height": 84
        },
        "outputId": "b742230c-bee7-4fc8-8565-70d8c7a64ff3"
      },
      "source": [
        "# checking unique values for obj having minimal unique obj\n",
        "print(df4.Product.unique())\n",
        "print(df4.Cell_On_Site.unique())\n",
        "print(df4.Country_A.unique())\n",
        "print(df4.Country_B.unique())"
      ],
      "execution_count": 73,
      "outputs": [
        {
          "output_type": "stream",
          "text": [
            "['Voice' 'sms' 'data']\n",
            "['1' '0' '_' '5' '2' '3' '4']\n",
            "['19e2e']\n",
            "['19e2e' 'OTHER']\n"
          ],
          "name": "stdout"
        }
      ]
    },
    {
      "cell_type": "code",
      "metadata": {
        "id": "xyGZvnx-DHrm",
        "colab_type": "code",
        "colab": {
          "base_uri": "https://localhost:8080/",
          "height": 252
        },
        "outputId": "7baf9257-3cc8-4b69-8bec-c74b3ccffd59"
      },
      "source": [
        "# checking for duplicates\n",
        "print(df4[df4.duplicated(keep=False)])"
      ],
      "execution_count": 82,
      "outputs": [
        {
          "output_type": "stream",
          "text": [
            "     Product  Value              Date_Time  ... Country_B     Cell_ID     Site_ID\n",
            "765      sms      0  2012-05-07 00:00:03.0  ...     19e2e  23c5372bd3  e942f32a29\n",
            "769      sms     25  2012-05-07 00:00:03.0  ...     19e2e  a6606f4ac1  c6400e443f\n",
            "793      sms      0  2012-05-07 00:00:03.0  ...     19e2e  23c5372bd3  e942f32a29\n",
            "794      sms     25  2012-05-07 00:00:03.0  ...     19e2e  a6606f4ac1  c6400e443f\n",
            "795    Voice      0  2012-05-07 00:00:04.0  ...     19e2e  4a7047f1ba  dea1e52d3b\n",
            "...      ...    ...                    ...  ...       ...         ...         ...\n",
            "4864   Voice   1610  2012-05-07 00:01:50.0  ...     19e2e  89b82605a0  5324bc6c24\n",
            "4932   Voice      0  2012-05-07 00:01:52.0  ...     19e2e  d6abb7e15f  f72cd95f00\n",
            "4943   Voice      0  2012-05-07 00:01:52.0  ...     19e2e  d6abb7e15f  f72cd95f00\n",
            "4944   Voice     60  2012-05-07 00:01:53.0  ...     19e2e  fd754bd0d0  e82c07d996\n",
            "4970   Voice     60  2012-05-07 00:01:53.0  ...     19e2e  fd754bd0d0  e82c07d996\n",
            "\n",
            "[164 rows x 10 columns]\n"
          ],
          "name": "stdout"
        }
      ]
    },
    {
      "cell_type": "code",
      "metadata": {
        "id": "Les0GW923gwd",
        "colab_type": "code",
        "colab": {
          "base_uri": "https://localhost:8080/",
          "height": 536
        },
        "outputId": "e9939bc2-dead-44fe-a823-984863408887"
      },
      "source": [
        "# checking descriptive stats for CDR dataset 2\n",
        "df5.info()\n",
        "df5.describe()"
      ],
      "execution_count": 53,
      "outputs": [
        {
          "output_type": "stream",
          "text": [
            "<class 'pandas.core.frame.DataFrame'>\n",
            "RangeIndex: 5000 entries, 0 to 4999\n",
            "Data columns (total 10 columns):\n",
            "Product         5000 non-null object\n",
            "Value           5000 non-null int64\n",
            "Date_Time       5000 non-null object\n",
            "Cell_On_Site    5000 non-null object\n",
            "DW_A_Number     5000 non-null object\n",
            "DW_B_Number     5000 non-null object\n",
            "Country_A       5000 non-null object\n",
            "Country_B       5000 non-null object\n",
            "Cell_ID         5000 non-null object\n",
            "Site_ID         4324 non-null object\n",
            "dtypes: int64(1), object(9)\n",
            "memory usage: 390.8+ KB\n"
          ],
          "name": "stdout"
        },
        {
          "output_type": "execute_result",
          "data": {
            "text/html": [
              "<div>\n",
              "<style scoped>\n",
              "    .dataframe tbody tr th:only-of-type {\n",
              "        vertical-align: middle;\n",
              "    }\n",
              "\n",
              "    .dataframe tbody tr th {\n",
              "        vertical-align: top;\n",
              "    }\n",
              "\n",
              "    .dataframe thead th {\n",
              "        text-align: right;\n",
              "    }\n",
              "</style>\n",
              "<table border=\"1\" class=\"dataframe\">\n",
              "  <thead>\n",
              "    <tr style=\"text-align: right;\">\n",
              "      <th></th>\n",
              "      <th>Value</th>\n",
              "    </tr>\n",
              "  </thead>\n",
              "  <tbody>\n",
              "    <tr>\n",
              "      <th>count</th>\n",
              "      <td>5000.000000</td>\n",
              "    </tr>\n",
              "    <tr>\n",
              "      <th>mean</th>\n",
              "      <td>24.339800</td>\n",
              "    </tr>\n",
              "    <tr>\n",
              "      <th>std</th>\n",
              "      <td>97.480726</td>\n",
              "    </tr>\n",
              "    <tr>\n",
              "      <th>min</th>\n",
              "      <td>0.000000</td>\n",
              "    </tr>\n",
              "    <tr>\n",
              "      <th>25%</th>\n",
              "      <td>0.000000</td>\n",
              "    </tr>\n",
              "    <tr>\n",
              "      <th>50%</th>\n",
              "      <td>0.000000</td>\n",
              "    </tr>\n",
              "    <tr>\n",
              "      <th>75%</th>\n",
              "      <td>25.000000</td>\n",
              "    </tr>\n",
              "    <tr>\n",
              "      <th>max</th>\n",
              "      <td>3380.000000</td>\n",
              "    </tr>\n",
              "  </tbody>\n",
              "</table>\n",
              "</div>"
            ],
            "text/plain": [
              "             Value\n",
              "count  5000.000000\n",
              "mean     24.339800\n",
              "std      97.480726\n",
              "min       0.000000\n",
              "25%       0.000000\n",
              "50%       0.000000\n",
              "75%      25.000000\n",
              "max    3380.000000"
            ]
          },
          "metadata": {
            "tags": []
          },
          "execution_count": 53
        }
      ]
    },
    {
      "cell_type": "code",
      "metadata": {
        "id": "mI6TvngLAUcZ",
        "colab_type": "code",
        "colab": {
          "base_uri": "https://localhost:8080/",
          "height": 202
        },
        "outputId": "c8111869-ac46-4da0-f2ce-69b592e43d4c"
      },
      "source": [
        "# checking null values\n",
        "df5.isnull().sum()"
      ],
      "execution_count": 74,
      "outputs": [
        {
          "output_type": "execute_result",
          "data": {
            "text/plain": [
              "Product           0\n",
              "Value             0\n",
              "Date_Time         0\n",
              "Cell_On_Site      0\n",
              "DW_A_Number       0\n",
              "DW_B_Number       0\n",
              "Country_A         0\n",
              "Country_B         0\n",
              "Cell_ID           0\n",
              "Site_ID         676\n",
              "dtype: int64"
            ]
          },
          "metadata": {
            "tags": []
          },
          "execution_count": 74
        }
      ]
    },
    {
      "cell_type": "code",
      "metadata": {
        "id": "vT1nagoaAbkg",
        "colab_type": "code",
        "colab": {
          "base_uri": "https://localhost:8080/",
          "height": 185
        },
        "outputId": "05cecf97-e991-459b-c61e-3ebb53daeeec"
      },
      "source": [
        "# checking unique values\n",
        "print('Product: ' + str(df5.Product.nunique()) + ' out of ' + str(df5.Product.count()))\n",
        "print('Value: ' + str(df5.Value.nunique()) + ' out of ' + str(df5.Value.count()))\n",
        "print('Date_Time: ' + str(df5.Date_Time.nunique()) + ' out of ' + str(df5.Date_Time.count()))\n",
        "print('Cell_On_Site: ' + str(df5.Cell_On_Site.nunique()) + ' out of ' + str(df5.Cell_On_Site.count()))\n",
        "print('DW_A_Number: ' + str(df5.DW_A_Number.nunique()) + ' out of ' + str(df5.DW_A_Number.count()))\n",
        "print('DW_B_Number: ' + str(df5.DW_B_Number.nunique()) + ' out of ' + str(df5.DW_B_Number.count()))\n",
        "print('Country_A: ' + str(df5.Country_A.nunique()) + ' out of ' + str(df5.Country_A.count()))\n",
        "print('Country_B: ' + str(df5.Country_B.nunique()) + ' out of ' + str(df5.Country_B.count()))\n",
        "print('Cell_ID: ' + str(df5.Cell_ID.nunique()) + ' out of ' + str(df5.Cell_ID.count()))\n",
        "print('Site_ID: ' + str(df5.Site_ID.nunique()) + ' out of ' + str(df5.Site_ID.count()))"
      ],
      "execution_count": 76,
      "outputs": [
        {
          "output_type": "stream",
          "text": [
            "Product: 3 out of 5000\n",
            "Value: 242 out of 5000\n",
            "Date_Time: 787 out of 5000\n",
            "Cell_On_Site: 8 out of 5000\n",
            "DW_A_Number: 3799 out of 5000\n",
            "DW_B_Number: 2882 out of 5000\n",
            "Country_A: 1 out of 5000\n",
            "Country_B: 2 out of 5000\n",
            "Cell_ID: 1661 out of 5000\n",
            "Site_ID: 1027 out of 4324\n"
          ],
          "name": "stdout"
        }
      ]
    },
    {
      "cell_type": "code",
      "metadata": {
        "id": "JgTmyw0hBCV_",
        "colab_type": "code",
        "colab": {
          "base_uri": "https://localhost:8080/",
          "height": 84
        },
        "outputId": "521ebfc8-8e2a-412d-b4b8-ac8f26e54d0d"
      },
      "source": [
        "# checking unique values for obj having minimal unique obj\n",
        "print(df5.Product.unique())\n",
        "print(df5.Cell_On_Site.unique())\n",
        "print(df5.Country_A.unique())\n",
        "print(df5.Country_B.unique())"
      ],
      "execution_count": 77,
      "outputs": [
        {
          "output_type": "stream",
          "text": [
            "['Voice' 'sms' 'data']\n",
            "['1' '0' '4' '2' '_' '3' '5' '8']\n",
            "['19e2e']\n",
            "['19e2e' 'OTHER']\n"
          ],
          "name": "stdout"
        }
      ]
    },
    {
      "cell_type": "code",
      "metadata": {
        "id": "v_ot26QtDN_B",
        "colab_type": "code",
        "colab": {
          "base_uri": "https://localhost:8080/",
          "height": 252
        },
        "outputId": "7cdc3dc8-884a-4339-fe9d-b13d48822523"
      },
      "source": [
        "# checking for duplicates\n",
        "print(df5[df5.duplicated(keep=False)])"
      ],
      "execution_count": 83,
      "outputs": [
        {
          "output_type": "stream",
          "text": [
            "     Product  Value              Date_Time  ... Country_B     Cell_ID     Site_ID\n",
            "800    Voice     42  2012-05-08 00:00:01.0  ...     19e2e  7a31902854  55d6d9039c\n",
            "822    Voice     42  2012-05-08 00:00:01.0  ...     19e2e  7a31902854  55d6d9039c\n",
            "823    Voice     46  2012-05-08 00:00:02.0  ...     19e2e  4d9b2590ad  0c997709bd\n",
            "824    Voice      0  2012-05-08 00:00:02.0  ...     19e2e  3aba7c72d7  e188165ebc\n",
            "835    Voice     46  2012-05-08 00:00:02.0  ...     19e2e  4d9b2590ad  0c997709bd\n",
            "...      ...    ...                    ...  ...       ...         ...         ...\n",
            "4878     sms     25  2012-05-08 00:01:50.0  ...     19e2e  777d30093d  aeed65e7ce\n",
            "4879     sms      0  2012-05-08 00:01:51.0  ...     19e2e  15bdb525ee  6e9b544976\n",
            "4917     sms      0  2012-05-08 00:01:51.0  ...     19e2e  15bdb525ee  6e9b544976\n",
            "4972   Voice      0  2012-05-08 00:01:53.0  ...     19e2e  8630058aca  b47a998a3e\n",
            "4999   Voice      0  2012-05-08 00:01:53.0  ...     19e2e  8630058aca  b47a998a3e\n",
            "\n",
            "[156 rows x 10 columns]\n"
          ],
          "name": "stdout"
        }
      ]
    },
    {
      "cell_type": "code",
      "metadata": {
        "id": "ib_7Z_PP3jhy",
        "colab_type": "code",
        "colab": {
          "base_uri": "https://localhost:8080/",
          "height": 536
        },
        "outputId": "1d50711e-3cb7-4558-b92c-9a778b255a89"
      },
      "source": [
        "# checking descriptive stats for CDR dataset 3\n",
        "df6.info()\n",
        "df6.describe()"
      ],
      "execution_count": 54,
      "outputs": [
        {
          "output_type": "stream",
          "text": [
            "<class 'pandas.core.frame.DataFrame'>\n",
            "RangeIndex: 5000 entries, 0 to 4999\n",
            "Data columns (total 10 columns):\n",
            "Product            5000 non-null object\n",
            "Value              5000 non-null int64\n",
            "Date_Time          5000 non-null object\n",
            "Cell_On_Site       5000 non-null object\n",
            "DW_A_Number_Int    5000 non-null object\n",
            "DW_B_Number_Int    5000 non-null object\n",
            "Country_A          5000 non-null object\n",
            "Country_B          5000 non-null object\n",
            "Cell_ID            5000 non-null object\n",
            "Site_ID            4395 non-null object\n",
            "dtypes: int64(1), object(9)\n",
            "memory usage: 390.8+ KB\n"
          ],
          "name": "stdout"
        },
        {
          "output_type": "execute_result",
          "data": {
            "text/html": [
              "<div>\n",
              "<style scoped>\n",
              "    .dataframe tbody tr th:only-of-type {\n",
              "        vertical-align: middle;\n",
              "    }\n",
              "\n",
              "    .dataframe tbody tr th {\n",
              "        vertical-align: top;\n",
              "    }\n",
              "\n",
              "    .dataframe thead th {\n",
              "        text-align: right;\n",
              "    }\n",
              "</style>\n",
              "<table border=\"1\" class=\"dataframe\">\n",
              "  <thead>\n",
              "    <tr style=\"text-align: right;\">\n",
              "      <th></th>\n",
              "      <th>Value</th>\n",
              "    </tr>\n",
              "  </thead>\n",
              "  <tbody>\n",
              "    <tr>\n",
              "      <th>count</th>\n",
              "      <td>5000.000000</td>\n",
              "    </tr>\n",
              "    <tr>\n",
              "      <th>mean</th>\n",
              "      <td>26.434600</td>\n",
              "    </tr>\n",
              "    <tr>\n",
              "      <th>std</th>\n",
              "      <td>224.222108</td>\n",
              "    </tr>\n",
              "    <tr>\n",
              "      <th>min</th>\n",
              "      <td>0.000000</td>\n",
              "    </tr>\n",
              "    <tr>\n",
              "      <th>25%</th>\n",
              "      <td>0.000000</td>\n",
              "    </tr>\n",
              "    <tr>\n",
              "      <th>50%</th>\n",
              "      <td>0.000000</td>\n",
              "    </tr>\n",
              "    <tr>\n",
              "      <th>75%</th>\n",
              "      <td>25.000000</td>\n",
              "    </tr>\n",
              "    <tr>\n",
              "      <th>max</th>\n",
              "      <td>12900.000000</td>\n",
              "    </tr>\n",
              "  </tbody>\n",
              "</table>\n",
              "</div>"
            ],
            "text/plain": [
              "              Value\n",
              "count   5000.000000\n",
              "mean      26.434600\n",
              "std      224.222108\n",
              "min        0.000000\n",
              "25%        0.000000\n",
              "50%        0.000000\n",
              "75%       25.000000\n",
              "max    12900.000000"
            ]
          },
          "metadata": {
            "tags": []
          },
          "execution_count": 54
        }
      ]
    },
    {
      "cell_type": "code",
      "metadata": {
        "id": "dp1kDowLBpaN",
        "colab_type": "code",
        "colab": {
          "base_uri": "https://localhost:8080/",
          "height": 202
        },
        "outputId": "f9e5d0d6-77c7-4317-e166-0ac824a78a20"
      },
      "source": [
        "# checkinng null values\n",
        "df6.isnull().sum()"
      ],
      "execution_count": 78,
      "outputs": [
        {
          "output_type": "execute_result",
          "data": {
            "text/plain": [
              "Product              0\n",
              "Value                0\n",
              "Date_Time            0\n",
              "Cell_On_Site         0\n",
              "DW_A_Number_Int      0\n",
              "DW_B_Number_Int      0\n",
              "Country_A            0\n",
              "Country_B            0\n",
              "Cell_ID              0\n",
              "Site_ID            605\n",
              "dtype: int64"
            ]
          },
          "metadata": {
            "tags": []
          },
          "execution_count": 78
        }
      ]
    },
    {
      "cell_type": "code",
      "metadata": {
        "id": "0lAfZ0-1B3va",
        "colab_type": "code",
        "colab": {
          "base_uri": "https://localhost:8080/",
          "height": 185
        },
        "outputId": "a9bb3a95-6045-41a5-ec01-96547a336f6f"
      },
      "source": [
        "# checking unique values in CDR dataset 3\n",
        "# 'Product','Value','Date_Time','Cell_On_Site','DW_A_Number_Int','DW_B_Number_Int','Country_A','Country_B','Cell_ID','Site_ID'\n",
        "\n",
        "print('Product: ' + str(df6.Product.nunique()) + ' out of ' + str(df6.Product.count()))\n",
        "print('Value: ' + str(df6.Value.nunique()) + ' out of ' + str(df6.Value.count()))\n",
        "print('Date_Time: ' + str(df6.Date_Time.nunique()) + ' out of ' + str(df6.Date_Time.count()))\n",
        "print('Cell_On_Site: ' + str(df6.Cell_On_Site.nunique()) + ' out of ' + str(df6.Cell_On_Site.count()))\n",
        "print('DW_A_Number_Int: ' + str(df6.DW_A_Number_Int.nunique()) + ' out of ' + str(df6.DW_A_Number_Int.count()))\n",
        "print('DW_B_Number_Int: ' + str(df6.DW_B_Number_Int.nunique()) + ' out of ' + str(df6.DW_B_Number_Int.count()))\n",
        "print('Country_A: ' + str(df6.Country_A.nunique()) + ' out of ' + str(df6.Country_A.count()))\n",
        "print('Country_B: ' + str(df6.Country_B.nunique()) + ' out of ' + str(df6.Country_B.count()))\n",
        "print('Cell_ID: ' + str(df6.Cell_ID.nunique()) + ' out of ' + str(df6.Cell_ID.count()))\n",
        "print('Site_ID: ' + str(df6.Site_ID.nunique()) + ' out of ' + str(df6.Site_ID.count()))\n"
      ],
      "execution_count": 79,
      "outputs": [
        {
          "output_type": "stream",
          "text": [
            "Product: 3 out of 5000\n",
            "Value: 219 out of 5000\n",
            "Date_Time: 646 out of 5000\n",
            "Cell_On_Site: 9 out of 5000\n",
            "DW_A_Number_Int: 3593 out of 5000\n",
            "DW_B_Number_Int: 2895 out of 5000\n",
            "Country_A: 1 out of 5000\n",
            "Country_B: 2 out of 5000\n",
            "Cell_ID: 1596 out of 5000\n",
            "Site_ID: 961 out of 4395\n"
          ],
          "name": "stdout"
        }
      ]
    },
    {
      "cell_type": "code",
      "metadata": {
        "id": "IRBqPGeGCihy",
        "colab_type": "code",
        "colab": {
          "base_uri": "https://localhost:8080/",
          "height": 84
        },
        "outputId": "73f05dec-b1c0-4f79-8b37-c1432721f86f"
      },
      "source": [
        "# checking unique values for obj having minimal unique obj\n",
        "print(df6.Product.unique())\n",
        "print(df6.Cell_On_Site.unique())\n",
        "print(df6.Country_A.unique())\n",
        "print(df6.Country_B.unique())"
      ],
      "execution_count": 80,
      "outputs": [
        {
          "output_type": "stream",
          "text": [
            "['sms' 'Voice' 'data']\n",
            "['1' '0' '4' '2' '_' '5' '3' '6' '7']\n",
            "['19e2e']\n",
            "['19e2e' 'OTHER']\n"
          ],
          "name": "stdout"
        }
      ]
    },
    {
      "cell_type": "code",
      "metadata": {
        "id": "De29l54mDSnm",
        "colab_type": "code",
        "colab": {
          "base_uri": "https://localhost:8080/",
          "height": 252
        },
        "outputId": "40fb7c24-baa3-4d11-8989-15b3f8c21a05"
      },
      "source": [
        "# checking for duplicates\n",
        "# checking for duplicates\n",
        "print(df6[df6.duplicated(keep=False)])"
      ],
      "execution_count": 84,
      "outputs": [
        {
          "output_type": "stream",
          "text": [
            "     Product  Value              Date_Time  ... Country_B     Cell_ID     Site_ID\n",
            "832      sms     25  2012-05-09 00:00:05.0  ...     19e2e  bf65ca9bc0  ba8ce6e4ef\n",
            "878     data      0  2012-05-09 00:00:05.0  ...     OTHER  ffa6759bb2         NaN\n",
            "891      sms     25  2012-05-09 00:00:05.0  ...     19e2e  bf65ca9bc0  ba8ce6e4ef\n",
            "892     data      0  2012-05-09 00:00:05.0  ...     OTHER  ffa6759bb2         NaN\n",
            "893      sms     25  2012-05-09 00:00:06.0  ...     19e2e  07ed226112  334fdb9912\n",
            "...      ...    ...                    ...  ...       ...         ...         ...\n",
            "4961     sms      0  2012-05-09 00:01:42.0  ...     19e2e  34f124cb0d  73dd78713b\n",
            "4962     sms      0  2012-05-09 00:01:43.0  ...     19e2e  55becafe68  7430461f18\n",
            "4963   Voice     32  2012-05-09 00:01:43.0  ...     19e2e  a4731e780e  d68260ef50\n",
            "4968     sms      0  2012-05-09 00:01:43.0  ...     19e2e  55becafe68  7430461f18\n",
            "4997   Voice     32  2012-05-09 00:01:43.0  ...     19e2e  a4731e780e  d68260ef50\n",
            "\n",
            "[186 rows x 10 columns]\n"
          ],
          "name": "stdout"
        }
      ]
    },
    {
      "cell_type": "markdown",
      "metadata": {
        "id": "hGBNgjGoDfjM",
        "colab_type": "text"
      },
      "source": [
        "# Data Cleaning"
      ]
    },
    {
      "cell_type": "code",
      "metadata": {
        "id": "yMavqHTHDiFp",
        "colab_type": "code",
        "colab": {
          "base_uri": "https://localhost:8080/",
          "height": 457
        },
        "outputId": "107fec81-7f64-45ac-c579-4a32ba92ae99"
      },
      "source": [
        "# Combine the CDR datasets\n",
        "df_cdr = pd.concat([df4,df5, df6], axis = 0)\n",
        "df_cdr.info()"
      ],
      "execution_count": 85,
      "outputs": [
        {
          "output_type": "stream",
          "text": [
            "<class 'pandas.core.frame.DataFrame'>\n",
            "Int64Index: 15001 entries, 0 to 4999\n",
            "Data columns (total 12 columns):\n",
            "Cell_ID            15001 non-null object\n",
            "Cell_On_Site       15001 non-null object\n",
            "Country_A          15001 non-null object\n",
            "Country_B          15001 non-null object\n",
            "DW_A_Number        5000 non-null object\n",
            "DW_A_Number_Int    10001 non-null object\n",
            "DW_B_Number        5000 non-null object\n",
            "DW_B_Number_Int    10001 non-null object\n",
            "Date_Time          15001 non-null object\n",
            "Product            15001 non-null object\n",
            "Site_ID            13004 non-null object\n",
            "Value              15001 non-null int64\n",
            "dtypes: int64(1), object(11)\n",
            "memory usage: 1.5+ MB\n"
          ],
          "name": "stdout"
        },
        {
          "output_type": "stream",
          "text": [
            "/usr/local/lib/python3.6/dist-packages/ipykernel_launcher.py:1: FutureWarning: Sorting because non-concatenation axis is not aligned. A future version\n",
            "of pandas will change to not sort by default.\n",
            "\n",
            "To accept the future behavior, pass 'sort=False'.\n",
            "\n",
            "To retain the current behavior and silence the warning, pass 'sort=True'.\n",
            "\n",
            "  \"\"\"Entry point for launching an IPython kernel.\n"
          ],
          "name": "stderr"
        }
      ]
    },
    {
      "cell_type": "code",
      "metadata": {
        "id": "eEJLhamcLnF6",
        "colab_type": "code",
        "colab": {
          "base_uri": "https://localhost:8080/",
          "height": 302
        },
        "outputId": "22092bfc-c3fc-40ca-a440-c31909f5ba5f"
      },
      "source": [
        "# change datatypes of date cols to date for ease of access\n",
        "df_cdr['Date_Time'] = pd.to_datetime(df_cdr['Date_Time'])\n",
        "\n",
        "# check if data type changed\n",
        "df_cdr.info()"
      ],
      "execution_count": 87,
      "outputs": [
        {
          "output_type": "stream",
          "text": [
            "<class 'pandas.core.frame.DataFrame'>\n",
            "Int64Index: 15001 entries, 0 to 4999\n",
            "Data columns (total 12 columns):\n",
            "Cell_ID            15001 non-null object\n",
            "Cell_On_Site       15001 non-null object\n",
            "Country_A          15001 non-null object\n",
            "Country_B          15001 non-null object\n",
            "DW_A_Number        5000 non-null object\n",
            "DW_A_Number_Int    10001 non-null object\n",
            "DW_B_Number        5000 non-null object\n",
            "DW_B_Number_Int    10001 non-null object\n",
            "Date_Time          15001 non-null datetime64[ns]\n",
            "Product            15001 non-null object\n",
            "Site_ID            13004 non-null object\n",
            "Value              15001 non-null int64\n",
            "dtypes: datetime64[ns](1), int64(1), object(10)\n",
            "memory usage: 1.5+ MB\n"
          ],
          "name": "stdout"
        }
      ]
    },
    {
      "cell_type": "code",
      "metadata": {
        "id": "0lHohpJUMF-1",
        "colab_type": "code",
        "colab": {
          "base_uri": "https://localhost:8080/",
          "height": 402
        },
        "outputId": "f339cb98-db60-449a-ebf8-62c572627ce6"
      },
      "source": [
        "# drop cols that are not required i.e Country A and country B\n",
        "df_cdr.drop(['Country_A', 'Country_B'], axis = 1)"
      ],
      "execution_count": 88,
      "outputs": [
        {
          "output_type": "execute_result",
          "data": {
            "text/html": [
              "<div>\n",
              "<style scoped>\n",
              "    .dataframe tbody tr th:only-of-type {\n",
              "        vertical-align: middle;\n",
              "    }\n",
              "\n",
              "    .dataframe tbody tr th {\n",
              "        vertical-align: top;\n",
              "    }\n",
              "\n",
              "    .dataframe thead th {\n",
              "        text-align: right;\n",
              "    }\n",
              "</style>\n",
              "<table border=\"1\" class=\"dataframe\">\n",
              "  <thead>\n",
              "    <tr style=\"text-align: right;\">\n",
              "      <th></th>\n",
              "      <th>Cell_ID</th>\n",
              "      <th>Cell_On_Site</th>\n",
              "      <th>DW_A_Number</th>\n",
              "      <th>DW_A_Number_Int</th>\n",
              "      <th>DW_B_Number</th>\n",
              "      <th>DW_B_Number_Int</th>\n",
              "      <th>Date_Time</th>\n",
              "      <th>Product</th>\n",
              "      <th>Site_ID</th>\n",
              "      <th>Value</th>\n",
              "    </tr>\n",
              "  </thead>\n",
              "  <tbody>\n",
              "    <tr>\n",
              "      <th>0</th>\n",
              "      <td>/TJNe+Mmtu</td>\n",
              "      <td>1</td>\n",
              "      <td>NaN</td>\n",
              "      <td>49fae048b547780</td>\n",
              "      <td>NaN</td>\n",
              "      <td>1a49f8b0ded9de6</td>\n",
              "      <td>2012-05-06 23:04:37</td>\n",
              "      <td>Voice</td>\n",
              "      <td>/TJNe+Mmtu</td>\n",
              "      <td>0</td>\n",
              "    </tr>\n",
              "    <tr>\n",
              "      <th>1</th>\n",
              "      <td>/+cKZKIp41</td>\n",
              "      <td>0</td>\n",
              "      <td>NaN</td>\n",
              "      <td>7a54a6eaee19e65</td>\n",
              "      <td>NaN</td>\n",
              "      <td>93343ba6e41af95</td>\n",
              "      <td>2012-05-06 23:05:25</td>\n",
              "      <td>sms</td>\n",
              "      <td>/+cKZKIp41</td>\n",
              "      <td>0</td>\n",
              "    </tr>\n",
              "    <tr>\n",
              "      <th>2</th>\n",
              "      <td>/u0FSD+ahi</td>\n",
              "      <td>0</td>\n",
              "      <td>NaN</td>\n",
              "      <td>6008887b0207d82</td>\n",
              "      <td>NaN</td>\n",
              "      <td>7aacc9709ce0a20</td>\n",
              "      <td>2012-05-06 23:05:41</td>\n",
              "      <td>sms</td>\n",
              "      <td>/u0FSD+ahi</td>\n",
              "      <td>25</td>\n",
              "    </tr>\n",
              "    <tr>\n",
              "      <th>3</th>\n",
              "      <td>+cNeJzsTp3</td>\n",
              "      <td>1</td>\n",
              "      <td>NaN</td>\n",
              "      <td>7370032e20f4e96</td>\n",
              "      <td>NaN</td>\n",
              "      <td>6af4a60e74c91d3</td>\n",
              "      <td>2012-05-06 23:05:42</td>\n",
              "      <td>Voice</td>\n",
              "      <td>+cNeJzsTp3</td>\n",
              "      <td>56</td>\n",
              "    </tr>\n",
              "    <tr>\n",
              "      <th>4</th>\n",
              "      <td>051KhYDCpv</td>\n",
              "      <td>1</td>\n",
              "      <td>NaN</td>\n",
              "      <td>966ba4656e38e62</td>\n",
              "      <td>NaN</td>\n",
              "      <td>02aa736ee555d5c</td>\n",
              "      <td>2012-05-06 23:06:29</td>\n",
              "      <td>Voice</td>\n",
              "      <td>051KhYDCpv</td>\n",
              "      <td>14</td>\n",
              "    </tr>\n",
              "    <tr>\n",
              "      <th>...</th>\n",
              "      <td>...</td>\n",
              "      <td>...</td>\n",
              "      <td>...</td>\n",
              "      <td>...</td>\n",
              "      <td>...</td>\n",
              "      <td>...</td>\n",
              "      <td>...</td>\n",
              "      <td>...</td>\n",
              "      <td>...</td>\n",
              "      <td>...</td>\n",
              "    </tr>\n",
              "    <tr>\n",
              "      <th>4995</th>\n",
              "      <td>2aa04dcab7</td>\n",
              "      <td>3</td>\n",
              "      <td>NaN</td>\n",
              "      <td>467333ade2b4b9c</td>\n",
              "      <td>NaN</td>\n",
              "      <td>0ab2acd804d01fe</td>\n",
              "      <td>2012-05-09 00:01:43</td>\n",
              "      <td>Voice</td>\n",
              "      <td>f7d63a29e5</td>\n",
              "      <td>0</td>\n",
              "    </tr>\n",
              "    <tr>\n",
              "      <th>4996</th>\n",
              "      <td>7f1f2f889f</td>\n",
              "      <td>1</td>\n",
              "      <td>NaN</td>\n",
              "      <td>e077a6b74c5053c</td>\n",
              "      <td>NaN</td>\n",
              "      <td>4c8098eb6ea1a41</td>\n",
              "      <td>2012-05-09 00:01:43</td>\n",
              "      <td>Voice</td>\n",
              "      <td>b4ddb9e93c</td>\n",
              "      <td>62</td>\n",
              "    </tr>\n",
              "    <tr>\n",
              "      <th>4997</th>\n",
              "      <td>a4731e780e</td>\n",
              "      <td>1</td>\n",
              "      <td>NaN</td>\n",
              "      <td>77f53c39d27c050</td>\n",
              "      <td>NaN</td>\n",
              "      <td>9d064f013e2cab2</td>\n",
              "      <td>2012-05-09 00:01:43</td>\n",
              "      <td>Voice</td>\n",
              "      <td>d68260ef50</td>\n",
              "      <td>32</td>\n",
              "    </tr>\n",
              "    <tr>\n",
              "      <th>4998</th>\n",
              "      <td>98ed726da2</td>\n",
              "      <td>2</td>\n",
              "      <td>NaN</td>\n",
              "      <td>672ce74c418aa7a</td>\n",
              "      <td>NaN</td>\n",
              "      <td>f9ff5af59cf0d68</td>\n",
              "      <td>2012-05-09 00:01:43</td>\n",
              "      <td>Voice</td>\n",
              "      <td>b4130b54ab</td>\n",
              "      <td>30</td>\n",
              "    </tr>\n",
              "    <tr>\n",
              "      <th>4999</th>\n",
              "      <td>1c11a2fcbb</td>\n",
              "      <td>2</td>\n",
              "      <td>NaN</td>\n",
              "      <td>6edeb4c55714650</td>\n",
              "      <td>NaN</td>\n",
              "      <td>7e60838216482a7</td>\n",
              "      <td>2012-05-09 00:01:43</td>\n",
              "      <td>Voice</td>\n",
              "      <td>6d70dae094</td>\n",
              "      <td>60</td>\n",
              "    </tr>\n",
              "  </tbody>\n",
              "</table>\n",
              "<p>15001 rows × 10 columns</p>\n",
              "</div>"
            ],
            "text/plain": [
              "         Cell_ID Cell_On_Site DW_A_Number  ... Product     Site_ID Value\n",
              "0     /TJNe+Mmtu            1         NaN  ...   Voice  /TJNe+Mmtu     0\n",
              "1     /+cKZKIp41            0         NaN  ...     sms  /+cKZKIp41     0\n",
              "2     /u0FSD+ahi            0         NaN  ...     sms  /u0FSD+ahi    25\n",
              "3     +cNeJzsTp3            1         NaN  ...   Voice  +cNeJzsTp3    56\n",
              "4     051KhYDCpv            1         NaN  ...   Voice  051KhYDCpv    14\n",
              "...          ...          ...         ...  ...     ...         ...   ...\n",
              "4995  2aa04dcab7            3         NaN  ...   Voice  f7d63a29e5     0\n",
              "4996  7f1f2f889f            1         NaN  ...   Voice  b4ddb9e93c    62\n",
              "4997  a4731e780e            1         NaN  ...   Voice  d68260ef50    32\n",
              "4998  98ed726da2            2         NaN  ...   Voice  b4130b54ab    30\n",
              "4999  1c11a2fcbb            2         NaN  ...   Voice  6d70dae094    60\n",
              "\n",
              "[15001 rows x 10 columns]"
            ]
          },
          "metadata": {
            "tags": []
          },
          "execution_count": 88
        }
      ]
    },
    {
      "cell_type": "code",
      "metadata": {
        "id": "ohIVj-M2MXhS",
        "colab_type": "code",
        "colab": {
          "base_uri": "https://localhost:8080/",
          "height": 302
        },
        "outputId": "33903053-fddb-4a88-c34a-392ddcfe164b"
      },
      "source": [
        "# drop duplicates\n",
        "df_cdr = df_cdr.drop_duplicates()\n",
        "df_cdr.info()   # dropped 253 rows from 15001 to 14748"
      ],
      "execution_count": 94,
      "outputs": [
        {
          "output_type": "stream",
          "text": [
            "<class 'pandas.core.frame.DataFrame'>\n",
            "Int64Index: 14748 entries, 0 to 4999\n",
            "Data columns (total 12 columns):\n",
            "Cell_ID            14748 non-null object\n",
            "Cell_On_Site       14748 non-null object\n",
            "Country_A          14748 non-null object\n",
            "Country_B          14748 non-null object\n",
            "DW_A_Number        4922 non-null object\n",
            "DW_A_Number_Int    9826 non-null object\n",
            "DW_B_Number        4922 non-null object\n",
            "DW_B_Number_Int    9826 non-null object\n",
            "Date_Time          14748 non-null datetime64[ns]\n",
            "Product            14748 non-null object\n",
            "Site_ID            12787 non-null object\n",
            "Value              14748 non-null int64\n",
            "dtypes: datetime64[ns](1), int64(1), object(10)\n",
            "memory usage: 1.5+ MB\n"
          ],
          "name": "stdout"
        }
      ]
    },
    {
      "cell_type": "code",
      "metadata": {
        "id": "B1-VQ03cNHLh",
        "colab_type": "code",
        "colab": {
          "base_uri": "https://localhost:8080/",
          "height": 470
        },
        "outputId": "c9c5b31c-a649-4356-c422-61f4d1d173bd"
      },
      "source": [
        "# merge CDR and Cell geo data\n",
        "df_cdr_cells = pd.merge(df_cdr,df2, how='inner', on=['Cell_ID'])\n",
        "df_cdr_cells.info()"
      ],
      "execution_count": 96,
      "outputs": [
        {
          "output_type": "stream",
          "text": [
            "<class 'pandas.core.frame.DataFrame'>\n",
            "Index: 0 entries\n",
            "Data columns (total 22 columns):\n",
            "Cell_ID            0 non-null object\n",
            "Cell_On_Site       0 non-null object\n",
            "Country_A          0 non-null object\n",
            "Country_B          0 non-null object\n",
            "DW_A_Number        0 non-null object\n",
            "DW_A_Number_Int    0 non-null object\n",
            "DW_B_Number        0 non-null object\n",
            "DW_B_Number_Int    0 non-null object\n",
            "Date_Time          0 non-null datetime64[ns]\n",
            "Product            0 non-null object\n",
            "Site_ID_x          0 non-null object\n",
            "Value              0 non-null int64\n",
            "City               0 non-null object\n",
            "Status             0 non-null object\n",
            "Localisation       0 non-null object\n",
            "Decoup_Zone        0 non-null object\n",
            "Zone_Name          0 non-null object\n",
            "Longitude          0 non-null float64\n",
            "Latitude           0 non-null float64\n",
            "Region             0 non-null object\n",
            "Area               0 non-null object\n",
            "Site_ID_y          0 non-null object\n",
            "dtypes: datetime64[ns](1), float64(2), int64(1), object(18)\n",
            "memory usage: 0.0+ bytes\n"
          ],
          "name": "stdout"
        }
      ]
    },
    {
      "cell_type": "markdown",
      "metadata": {
        "id": "SMzhJRMxN6Fm",
        "colab_type": "text"
      },
      "source": [
        "# Data Exploration"
      ]
    },
    {
      "cell_type": "markdown",
      "metadata": {
        "id": "GHigSaYYOAyd",
        "colab_type": "text"
      },
      "source": [
        "Which ones were the most used city for the three days?"
      ]
    },
    {
      "cell_type": "code",
      "metadata": {
        "id": "Abme0GJQOGyX",
        "colab_type": "code",
        "colab": {
          "base_uri": "https://localhost:8080/",
          "height": 225
        },
        "outputId": "efa2ac84-97d3-488d-d92e-dafbf15ebf2d"
      },
      "source": [
        "# City with the most calls over the last three days\n",
        "# Count the number of calls per city. The one with the maximum number of calls is the most used city\n",
        "\n",
        "df_cdr.groupby('Cell_ID').count().nlargest(5,'Product')"
      ],
      "execution_count": 97,
      "outputs": [
        {
          "output_type": "execute_result",
          "data": {
            "text/html": [
              "<div>\n",
              "<style scoped>\n",
              "    .dataframe tbody tr th:only-of-type {\n",
              "        vertical-align: middle;\n",
              "    }\n",
              "\n",
              "    .dataframe tbody tr th {\n",
              "        vertical-align: top;\n",
              "    }\n",
              "\n",
              "    .dataframe thead th {\n",
              "        text-align: right;\n",
              "    }\n",
              "</style>\n",
              "<table border=\"1\" class=\"dataframe\">\n",
              "  <thead>\n",
              "    <tr style=\"text-align: right;\">\n",
              "      <th></th>\n",
              "      <th>Cell_On_Site</th>\n",
              "      <th>Country_A</th>\n",
              "      <th>Country_B</th>\n",
              "      <th>DW_A_Number</th>\n",
              "      <th>DW_A_Number_Int</th>\n",
              "      <th>DW_B_Number</th>\n",
              "      <th>DW_B_Number_Int</th>\n",
              "      <th>Date_Time</th>\n",
              "      <th>Product</th>\n",
              "      <th>Site_ID</th>\n",
              "      <th>Value</th>\n",
              "    </tr>\n",
              "    <tr>\n",
              "      <th>Cell_ID</th>\n",
              "      <th></th>\n",
              "      <th></th>\n",
              "      <th></th>\n",
              "      <th></th>\n",
              "      <th></th>\n",
              "      <th></th>\n",
              "      <th></th>\n",
              "      <th></th>\n",
              "      <th></th>\n",
              "      <th></th>\n",
              "      <th></th>\n",
              "    </tr>\n",
              "  </thead>\n",
              "  <tbody>\n",
              "    <tr>\n",
              "      <th>ffa6759bb2</th>\n",
              "      <td>1960</td>\n",
              "      <td>1960</td>\n",
              "      <td>1960</td>\n",
              "      <td>660</td>\n",
              "      <td>1300</td>\n",
              "      <td>660</td>\n",
              "      <td>1300</td>\n",
              "      <td>1960</td>\n",
              "      <td>1960</td>\n",
              "      <td>0</td>\n",
              "      <td>1960</td>\n",
              "    </tr>\n",
              "    <tr>\n",
              "      <th>03ee801971</th>\n",
              "      <td>73</td>\n",
              "      <td>73</td>\n",
              "      <td>73</td>\n",
              "      <td>34</td>\n",
              "      <td>39</td>\n",
              "      <td>34</td>\n",
              "      <td>39</td>\n",
              "      <td>73</td>\n",
              "      <td>73</td>\n",
              "      <td>73</td>\n",
              "      <td>73</td>\n",
              "    </tr>\n",
              "    <tr>\n",
              "      <th>cc7ce19d6b</th>\n",
              "      <td>65</td>\n",
              "      <td>65</td>\n",
              "      <td>65</td>\n",
              "      <td>0</td>\n",
              "      <td>65</td>\n",
              "      <td>0</td>\n",
              "      <td>65</td>\n",
              "      <td>65</td>\n",
              "      <td>65</td>\n",
              "      <td>65</td>\n",
              "      <td>65</td>\n",
              "    </tr>\n",
              "    <tr>\n",
              "      <th>b78724d6fc</th>\n",
              "      <td>42</td>\n",
              "      <td>42</td>\n",
              "      <td>42</td>\n",
              "      <td>5</td>\n",
              "      <td>37</td>\n",
              "      <td>5</td>\n",
              "      <td>37</td>\n",
              "      <td>42</td>\n",
              "      <td>42</td>\n",
              "      <td>42</td>\n",
              "      <td>42</td>\n",
              "    </tr>\n",
              "    <tr>\n",
              "      <th>d22224b2fa</th>\n",
              "      <td>40</td>\n",
              "      <td>40</td>\n",
              "      <td>40</td>\n",
              "      <td>12</td>\n",
              "      <td>28</td>\n",
              "      <td>12</td>\n",
              "      <td>28</td>\n",
              "      <td>40</td>\n",
              "      <td>40</td>\n",
              "      <td>40</td>\n",
              "      <td>40</td>\n",
              "    </tr>\n",
              "  </tbody>\n",
              "</table>\n",
              "</div>"
            ],
            "text/plain": [
              "            Cell_On_Site  Country_A  Country_B  ...  Product  Site_ID  Value\n",
              "Cell_ID                                         ...                         \n",
              "ffa6759bb2          1960       1960       1960  ...     1960        0   1960\n",
              "03ee801971            73         73         73  ...       73       73     73\n",
              "cc7ce19d6b            65         65         65  ...       65       65     65\n",
              "b78724d6fc            42         42         42  ...       42       42     42\n",
              "d22224b2fa            40         40         40  ...       40       40     40\n",
              "\n",
              "[5 rows x 11 columns]"
            ]
          },
          "metadata": {
            "tags": []
          },
          "execution_count": 97
        }
      ]
    },
    {
      "cell_type": "markdown",
      "metadata": {
        "id": "0TEHfV5sOwiT",
        "colab_type": "text"
      },
      "source": [
        "Which cities were the most used during business and home hours?"
      ]
    },
    {
      "cell_type": "code",
      "metadata": {
        "id": "iSwYVjh6O1BM",
        "colab_type": "code",
        "colab": {}
      },
      "source": [
        "# Business hours in Cote d'Ivoire are 7:30 - 1800 on weekdays and 8:00 to 12:00 on weekends\n",
        "# Source: https://www.worldtravelguide.net/guides/africa/ivory-coast/business-communications/\n"
      ],
      "execution_count": 0,
      "outputs": []
    },
    {
      "cell_type": "markdown",
      "metadata": {
        "id": "-oasXDFGPcHw",
        "colab_type": "text"
      },
      "source": [
        "Most used product for the three days"
      ]
    },
    {
      "cell_type": "code",
      "metadata": {
        "id": "BYKvLE2APfOk",
        "colab_type": "code",
        "colab": {
          "base_uri": "https://localhost:8080/",
          "height": 101
        },
        "outputId": "622caa90-d63c-4270-a76f-0307ecb02009"
      },
      "source": [
        "df_cdr.groupby('Product')['Value'].sum()"
      ],
      "execution_count": 98,
      "outputs": [
        {
          "output_type": "execute_result",
          "data": {
            "text/plain": [
              "Product\n",
              "Voice    306655\n",
              "data      17285\n",
              "sms       52377\n",
              "Name: Value, dtype: int64"
            ]
          },
          "metadata": {
            "tags": []
          },
          "execution_count": 98
        }
      ]
    },
    {
      "cell_type": "markdown",
      "metadata": {
        "id": "mtopne9SPqwd",
        "colab_type": "text"
      },
      "source": [
        "Busiest time of the day"
      ]
    },
    {
      "cell_type": "markdown",
      "metadata": {
        "id": "cWyaGTRAPtee",
        "colab_type": "text"
      },
      "source": [
        "Cell with the highest income"
      ]
    },
    {
      "cell_type": "code",
      "metadata": {
        "id": "e3hQOBdaPwzE",
        "colab_type": "code",
        "colab": {
          "base_uri": "https://localhost:8080/",
          "height": 235
        },
        "outputId": "1ee48f60-69fd-4c03-f79b-e413fd1c02fa"
      },
      "source": [
        "df_cdr.groupby('Site_ID')['Value'].sum()"
      ],
      "execution_count": 99,
      "outputs": [
        {
          "output_type": "execute_result",
          "data": {
            "text/plain": [
              "Site_ID\n",
              "++ctND+jGD    134\n",
              "+38u2u/rfx    186\n",
              "+854AcBQT2    154\n",
              "+Fs4mTvdKx     31\n",
              "+QZ9qRtNxA     55\n",
              "             ... \n",
              "feffc8c92b    297\n",
              "ff1b78ec81    322\n",
              "ffa6bdc032    499\n",
              "ffc9f56819    177\n",
              "fff5ac6e3f     28\n",
              "Name: Value, Length: 1357, dtype: int64"
            ]
          },
          "metadata": {
            "tags": []
          },
          "execution_count": 99
        }
      ]
    }
  ]
}